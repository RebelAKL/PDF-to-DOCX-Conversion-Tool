{
 "cells": [
  {
   "cell_type": "code",
   "execution_count": 1,
   "metadata": {},
   "outputs": [],
   "source": [
    "import cv2\n",
    "import pytesseract\n",
    "from pytesseract import Output\n",
    "from docx import Document\n",
    "from docx.shared import Pt, Inches\n",
    "from pdf2image import convert_from_path\n",
    "import os\n",
    "import numpy as np\n",
    "import io\n"
   ]
  },
  {
   "cell_type": "code",
   "execution_count": 2,
   "metadata": {},
   "outputs": [],
   "source": [
    "def extract_text_and_elements_from_pdf(pdf_path):\n",
    "    pages = convert_from_path(pdf_path, dpi=300)\n",
    "    extracted_data = []\n",
    "\n",
    "    for i, page_image in enumerate(pages):\n",
    "        img_byte_arr = io.BytesIO()\n",
    "        page_image.save(img_byte_arr, format='PNG')\n",
    "        img_byte_arr = img_byte_arr.getvalue()\n",
    "\n",
    "        image = cv2.imdecode(np.frombuffer(img_byte_arr, np.uint8), cv2.IMREAD_COLOR)\n",
    "\n",
    "        image = cv2.cvtColor(image, cv2.COLOR_BGR2GRAY)\n",
    "\n",
    "        ocr_data = pytesseract.image_to_data(image, output_type=Output.DICT)\n",
    "        extracted_data.append(ocr_data)\n",
    "\n",
    "    return extracted_data\n",
    "\n",
    "def recreate_pdf_layout_in_word(extracted_data, output_docx_path):\n",
    "    doc = Document()\n",
    "\n",
    "    for page_data in extracted_data:\n",
    "        for i, word in enumerate(page_data[\"text\"]):\n",
    "            if word.strip():\n",
    "                x, y, w, h = (page_data[\"left\"][i], page_data[\"top\"][i],\n",
    "                              page_data[\"width\"][i], page_data[\"height\"][i])\n",
    "                paragraph = doc.add_paragraph(word)\n",
    "                run = paragraph.runs[0]\n",
    "                run.font.size = Pt(10)\n",
    "\n",
    "        doc.add_page_break()\n",
    "    doc.save(output_docx_path)\n",
    "\n",
    "\n",
    "def convert_pdf_to_word_with_identical_layout(pdf_path, output_docx_path):\n",
    "    print(\"Extracting text and elements from PDF...\")\n",
    "    extracted_data = extract_text_and_elements_from_pdf(pdf_path)\n",
    "\n",
    "    print(\"Recreating layout in Word document...\")\n",
    "    recreate_pdf_layout_in_word(extracted_data, output_docx_path)\n",
    "\n",
    "    print(f\"Conversion completed! Output saved at: {output_docx_path}\")"
   ]
  },
  {
   "cell_type": "code",
   "execution_count": null,
   "metadata": {},
   "outputs": [
    {
     "name": "stdout",
     "output_type": "stream",
     "text": [
      "Extracting text and elements from PDF...\n"
     ]
    }
   ],
   "source": [
    "pdf_path = \"docs/sample test 1.pdf\"\n",
    "output_docx_path = \"output.docx\"\n",
    "\n",
    "# Run the process\n",
    "convert_pdf_to_word_with_identical_layout(pdf_path, output_docx_path)"
   ]
  },
  {
   "cell_type": "code",
   "execution_count": null,
   "metadata": {},
   "outputs": [],
   "source": []
  }
 ],
 "metadata": {
  "kernelspec": {
   "display_name": "tables-detr",
   "language": "python",
   "name": "python3"
  },
  "language_info": {
   "codemirror_mode": {
    "name": "ipython",
    "version": 3
   },
   "file_extension": ".py",
   "mimetype": "text/x-python",
   "name": "python",
   "nbconvert_exporter": "python",
   "pygments_lexer": "ipython3",
   "version": "3.10.9"
  }
 },
 "nbformat": 4,
 "nbformat_minor": 2
}
