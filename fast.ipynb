{
 "cells": [
  {
   "cell_type": "code",
   "execution_count": 1,
   "metadata": {},
   "outputs": [
    {
     "name": "stderr",
     "output_type": "stream",
     "text": [
      "c:\\Users\\rebel\\anaconda3\\envs\\tables-detr\\lib\\site-packages\\tqdm\\auto.py:21: TqdmWarning: IProgress not found. Please update jupyter and ipywidgets. See https://ipywidgets.readthedocs.io/en/stable/user_install.html\n",
      "  from .autonotebook import tqdm as notebook_tqdm\n"
     ]
    }
   ],
   "source": [
    "from docling.document_converter import DocumentConverter"
   ]
  },
  {
   "cell_type": "code",
   "execution_count": null,
   "metadata": {},
   "outputs": [],
   "source": [
    "source = \"docs\\sample test 1.pdf\"\n",
    "converter = DocumentConverter()\n",
    "result = converter.convert(source)\n",
    "print(result.document.export_to_)"
   ]
  },
  {
   "cell_type": "code",
   "execution_count": 4,
   "metadata": {},
   "outputs": [
    {
     "name": "stderr",
     "output_type": "stream",
     "text": [
      "c:\\Users\\rebel\\anaconda3\\envs\\tables-detr\\lib\\site-packages\\huggingface_hub\\file_download.py:140: UserWarning: `huggingface_hub` cache-system uses symlinks by default to efficiently store duplicated files but your machine does not support them in C:\\Users\\rebel\\.cache\\huggingface\\hub\\models--ds4sd--docling-models. Caching files will still work but in a degraded version that might require more space on your disk. This warning can be disabled by setting the `HF_HUB_DISABLE_SYMLINKS_WARNING` environment variable. For more details, see https://huggingface.co/docs/huggingface_hub/how-to-cache#limitations.\n",
      "To support symlinks on Windows, you either need to activate Developer Mode or to run Python as an administrator. In order to activate developer mode, see this article: https://docs.microsoft.com/en-us/windows/apps/get-started/enable-your-device-for-development\n",
      "  warnings.warn(message)\n",
      "Downloading detection model, please wait. This may take several minutes depending upon your network connection.\n",
      "Downloading recognition model, please wait. This may take several minutes depending upon your network connection.\n"
     ]
    },
    {
     "name": "stdout",
     "output_type": "stream",
     "text": [
      "Word document saved at: output.docx\n"
     ]
    }
   ],
   "source": [
    "import json\n",
    "from docling.document_converter import DocumentConverter\n",
    "from docx import Document\n",
    "from docx.shared import Pt\n",
    "\n",
    "def parse_pdf_with_docling(pdf_path):\n",
    "    converter = DocumentConverter()\n",
    "    result = converter.convert(pdf_path)\n",
    "    return result.document.export_to_dict()\n",
    "\n",
    "def create_word_document(parsed_content, output_path):\n",
    "    doc = Document()\n",
    "\n",
    "    for element in parsed_content.get('elements', []):\n",
    "        if element['type'] == 'paragraph':\n",
    "            p = doc.add_paragraph(element['text'])\n",
    "            if 'font_size' in element:\n",
    "                run = p.runs[0]\n",
    "                run.font.size = Pt(element['font_size'])\n",
    "        elif element['type'] == 'table':\n",
    "            table_data = element['data']\n",
    "            table = doc.add_table(rows=len(table_data), cols=len(table_data[0]))\n",
    "            for i, row in enumerate(table_data):\n",
    "                for j, cell in enumerate(row):\n",
    "                    table.cell(i, j).text = cell\n",
    "        # Add more conditions here for other element types if necessary\n",
    "\n",
    "    doc.save(output_path)\n",
    "\n",
    "def process_pdf_to_word(pdf_path, output_word_path):\n",
    "    parsed_content = parse_pdf_with_docling(pdf_path)\n",
    "    create_word_document(parsed_content, output_word_path)\n",
    "    print(f\"Word document saved at: {output_word_path}\")\n",
    "\n",
    "pdf_path = \"docs\\sample test 1.pdf\" \n",
    "output_word_path = \"output.docx\" \n",
    "\n",
    "process_pdf_to_word(pdf_path, output_word_path)\n"
   ]
  },
  {
   "cell_type": "code",
   "execution_count": null,
   "metadata": {},
   "outputs": [],
   "source": []
  }
 ],
 "metadata": {
  "kernelspec": {
   "display_name": "tables-detr",
   "language": "python",
   "name": "python3"
  },
  "language_info": {
   "codemirror_mode": {
    "name": "ipython",
    "version": 3
   },
   "file_extension": ".py",
   "mimetype": "text/x-python",
   "name": "python",
   "nbconvert_exporter": "python",
   "pygments_lexer": "ipython3",
   "version": "3.10.9"
  }
 },
 "nbformat": 4,
 "nbformat_minor": 2
}
